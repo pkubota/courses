{
  "nbformat": 4,
  "nbformat_minor": 0,
  "metadata": {
    "colab": {
      "provenance": [],
      "authorship_tag": "ABX9TyO1KctQhrwRwIo+qt9Dufzp",
      "include_colab_link": true
    },
    "kernelspec": {
      "name": "python3",
      "display_name": "Python 3"
    },
    "language_info": {
      "name": "python"
    }
  },
  "cells": [
    {
      "cell_type": "markdown",
      "metadata": {
        "id": "view-in-github",
        "colab_type": "text"
      },
      "source": [
        "<a href=\"https://colab.research.google.com/github/pkubota/courses/blob/main/python/colab/aulas_test.ipynb\" target=\"_parent\"><img src=\"https://colab.research.google.com/assets/colab-badge.svg\" alt=\"Open In Colab\"/></a>"
      ]
    },
    {
      "cell_type": "code",
      "execution_count": 41,
      "metadata": {
        "colab": {
          "base_uri": "https://localhost:8080/",
          "height": 461
        },
        "id": "SqbgoUpXhpNU",
        "outputId": "c749a1c7-b3c3-46ce-858a-0af3aaef3348"
      },
      "outputs": [
        {
          "output_type": "display_data",
          "data": {
            "text/plain": [
              "<Figure size 640x480 with 1 Axes>"
            ],
            "image/png": "[encoded data removed]"
          },
          "metadata": {}
        }
      ],
      "source": [
        "import matplotlib\n",
        "import matplotlib.pyplot as plt\n",
        "import numpy as np\n",
        "from matplotlib import animation\n",
        "from scipy import interpolate\n",
        "\n",
        "LNWDT=2; FNT=15\n",
        "matplotlib.rcParams['lines.linewidth'] = LNWDT;\n",
        "matplotlib.rcParams['font.size'] = FNT\n",
        "\n",
        "def f(x):\n",
        "    f=np.ones(x.shape)\n",
        "    f[np.where(x>0.2)] = 0.0\n",
        "\n",
        "    return f\n",
        "\n",
        "(xmin, xmax) = (0,1)\n",
        "n=80  #Number of space intervals\n",
        "\n",
        "x = np.linspace(xmin,xmax,n+1,'float')\n",
        "dx = float(xmax-xmin)/n\n",
        "\n",
        "a=1.0\n",
        "C=1.0\n",
        "dt = C*dx/a\n",
        "\n",
        "(tmin,tmax) = (0, 1.5)\n",
        "\n",
        "m=round((tmax-tmin)/dt) #Number of temporal intervals\n",
        "time=np.linspace(tmin,tmax,m)\n",
        "\n",
        "u0=f(x)\n",
        "u = np.zeros(u0.shape)\n",
        "u[:]=u0[:]\n",
        "\n",
        "ua=np.zeros((len(time),len(u)))\n",
        "un=np.zeros((len(time),len(u)))\n",
        "\n",
        "un[0,:] = u0\n",
        "\n",
        "for i, t in enumerate(time[1:]):\n",
        "\n",
        "    ua[i,:] = f(x-a*t)\n",
        "\n",
        "    u_bc = interpolate.interp1d(x[-2:], u[-2:])\n",
        "\n",
        "    u[1:n] = C*(1+C)/2*u[0:n-1] + (1-C**2)*u[1:n] - C*(1-C)/2*u[2:n+1]\n",
        "\n",
        "    u[-1] = u_bc(x[-1]-a*dt) # interpolate along a characteristic\n",
        "\n",
        "    un[i,:] = u[:]\n",
        "\n",
        "\n",
        "def init():\n",
        "    for curve in curves:\n",
        "        curve.set_data([], [])\n",
        "    return curves,\n",
        "\n",
        "\n",
        "def animate(i):\n",
        "    #x = np.linspace(0,4,nx)\n",
        "    #y = data\n",
        "    for k, curve in enumerate(curves):\n",
        "        if (k==0):\n",
        "            curve.set_data(x,un[i,:])\n",
        "        else:\n",
        "            curve.set_data(x, ua[i,:])\n",
        "\n",
        "    return curves\n",
        "\n",
        "\n",
        "# Animate the solution\n",
        "fig = plt.figure()\n",
        "(ymin,ymax)=(min(f(x)),max(f(x)*1.1))\n",
        "ax = plt.axes(xlim=(xmin, xmax),ylim=(ymin,ymax));\n",
        "\n",
        "curve1, = ax.plot(x,u0)\n",
        "curve2, = ax.plot(x,u0)\n",
        "legends=['Lax-Wendroff','Analytical']\n",
        "plt.legend(legends,loc=3,frameon=False)\n",
        "curves = [curve1, curve2]\n",
        "plt.xlabel('x')\n",
        "plt.ylabel('Velocity')\n",
        "anim = animation.FuncAnimation(fig, animate, init_func=init,\n",
        "                               frames=len(time), interval=100, blit=False)\n",
        "anim.save('paulo_kubota/plot_advec.gif')\n",
        "plt.show()\n"
      ]
    },
    {
      "cell_type": "code",
      "source": [
        "from google.colab import drive\n",
        "drive.mount('/content/drive')"
      ],
      "metadata": {
        "id": "vZ4baVnvkAA4",
        "outputId": "03b8604e-e5b8-4e26-919e-789cdb8c2b78",
        "colab": {
          "base_uri": "https://localhost:8080/"
        }
      },
      "execution_count": 42,
      "outputs": [
        {
          "output_type": "stream",
          "name": "stdout",
          "text": [
            "Drive already mounted at /content/drive; to attempt to forcibly remount, call drive.mount(\"/content/drive\", force_remount=True).\n"
          ]
        }
      ]
    }
  ]
}