{
  "nbformat": 4,
  "nbformat_minor": 0,
  "metadata": {
    "colab": {
      "provenance": [],
      "mount_file_id": "1dtIhLRAscMChbAw0S-h51puXfPZ3jcpA",
      "authorship_tag": "ABX9TyPARODYVAXTIl/JUrDPwUV3",
      "include_colab_link": true
    },
    "kernelspec": {
      "name": "python3",
      "display_name": "Python 3"
    },
    "language_info": {
      "name": "python"
    }
  },
  "cells": [
    {
      "cell_type": "markdown",
      "metadata": {
        "id": "view-in-github",
        "colab_type": "text"
      },
      "source": [
        "<a href=\"https://colab.research.google.com/github/pkubota/courses/blob/main/python/colab/DataFrame_Pandas_csv_excel.ipynb\" target=\"_parent\"><img src=\"https://colab.research.google.com/assets/colab-badge.svg\" alt=\"Open In Colab\"/></a>"
      ]
    },
    {
      "cell_type": "code",
      "execution_count": 17,
      "metadata": {
        "colab": {
          "base_uri": "https://localhost:8080/"
        },
        "id": "Qby5i1RJDcCW",
        "outputId": "081a7a5c-0914-4b90-bc5b-aeb131c51bf8"
      },
      "outputs": [
        {
          "output_type": "stream",
          "name": "stdout",
          "text": [
            "   duration  pulse  maxpulse  calories\n",
            "0        50    110       130       420\n",
            "1        40    117       145       380\n",
            "2        45    103       175       390\n",
            "XXXXXXXXXXXXXXXXXXXXXXXXXXXXXXXXXXXXXXXXXXXXXXX\n",
            "duration     50\n",
            "pulse       110\n",
            "maxpulse    130\n",
            "calories    420\n",
            "Name: 0, dtype: int64\n",
            "XXXXXXXXXXXXXXXXXXXXXXXXXXXXXXXXXXXXXXXXXXXXXXX\n",
            "0    50\n",
            "1    40\n",
            "2    45\n",
            "Name: duration, dtype: int64\n",
            "XXXXXXXXXXXXXXXXXXXXXXXXXXXXXXXXXXXXXXXXXXXXXXX\n",
            "   duration  pulse  maxpulse  calories\n",
            "0        50    110       130       420\n",
            "1        40    117       145       380\n",
            "XXXXXXXXXXXXXXXXXXXXXXXXXXXXXXXXXXXXXXXXXXXXXXX\n",
            "-----------------------------------------------\n",
            "-----------------------------------------------\n",
            "-----------------------------------------------\n",
            "<class 'pandas.core.frame.DataFrame'>\n",
            "RangeIndex: 169 entries, 0 to 168\n",
            "Data columns (total 4 columns):\n",
            " #   Column    Non-Null Count  Dtype  \n",
            "---  ------    --------------  -----  \n",
            " 0   Duration  169 non-null    int64  \n",
            " 1   Pulse     169 non-null    int64  \n",
            " 2   Maxpulse  169 non-null    int64  \n",
            " 3   Calories  164 non-null    float64\n",
            "dtypes: float64(1), int64(3)\n",
            "memory usage: 5.4 KB\n",
            "None\n",
            "XXXXXXXXXXXXXXXXXXXXXXXXXXXXXXXXXXXXXXXXXXXXXXX\n",
            "   Duration  Pulse  Maxpulse  Calories\n",
            "0        60    110       130     409.1\n",
            "1        60    117       145     479.0\n",
            "2        60    103       135     340.0\n",
            "3        45    109       175     282.4\n",
            "4        45    117       148     406.0\n",
            "XXXXXXXXXXXXXXXXXXXXXXXXXXXXXXXXXXXXXXXXXXXXXXX\n",
            "     Duration  Pulse  Maxpulse  Calories\n",
            "164        60    105       140     290.8\n",
            "165        60    110       145     300.0\n",
            "166        60    115       145     310.2\n",
            "167        75    120       150     320.4\n",
            "168        75    125       150     330.4\n",
            "XXXXXXXXXXXXXXXXXXXXXXXXXXXXXXXXXXXXXXXXXXXXXXX\n"
          ]
        }
      ],
      "source": [
        "import pandas as pd\n",
        "\n",
        "data = {\n",
        "  \"duration\": [50, 40, 45],\n",
        "  \"pulse\": [110, 117, 103],\n",
        "  \"maxpulse\": [130, 145, 175],\n",
        "  \"calories\": [420, 380, 390]\n",
        "}\n",
        "\n",
        "#load data into a DataFrame object:\n",
        "df2 = pd.DataFrame(data)\n",
        "\n",
        "print(df2)\n",
        "print('XXXXXXXXXXXXXXXXXXXXXXXXXXXXXXXXXXXXXXXXXXXXXXX')\n",
        "\n",
        "#refer to the row index:\n",
        "print(df2.loc[0])\n",
        "print('XXXXXXXXXXXXXXXXXXXXXXXXXXXXXXXXXXXXXXXXXXXXXXX')\n",
        "#refer to the cols index:\n",
        "print(df2.loc[:, 'duration'])\n",
        "print('XXXXXXXXXXXXXXXXXXXXXXXXXXXXXXXXXXXXXXXXXXXXXXX')\n",
        "#use a list of indexes:\n",
        "print(df2.loc[[0, 1]])\n",
        "print('XXXXXXXXXXXXXXXXXXXXXXXXXXXXXXXXXXXXXXXXXXXXXXX')\n",
        "\n",
        "# Write DataFrame to CSV\n",
        "df2.to_csv('data2.csv')\n",
        "\n",
        "\n",
        "print('-----------------------------------------------')\n",
        "print('-----------------------------------------------')\n",
        "print('-----------------------------------------------')\n",
        "\n",
        "df = pd.read_csv('data.csv')\n",
        "\n",
        "\n",
        "print(df.info())\n",
        "print('XXXXXXXXXXXXXXXXXXXXXXXXXXXXXXXXXXXXXXXXXXXXXXX')\n",
        "print(df.head())\n",
        "print('XXXXXXXXXXXXXXXXXXXXXXXXXXXXXXXXXXXXXXXXXXXXXXX')\n",
        "print(df.tail())\n",
        "print('XXXXXXXXXXXXXXXXXXXXXXXXXXXXXXXXXXXXXXXXXXXXXXX')\n"
      ]
    }
  ]
}