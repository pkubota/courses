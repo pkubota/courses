{
  "nbformat": 4,
  "nbformat_minor": 0,
  "metadata": {
    "colab": {
      "provenance": [],
      "authorship_tag": "ABX9TyMhURVEXKRqkf4W+GPqYJPb",
      "include_colab_link": true
    },
    "kernelspec": {
      "name": "python3",
      "display_name": "Python 3"
    },
    "language_info": {
      "name": "python"
    }
  },
  "cells": [
    {
      "cell_type": "markdown",
      "metadata": {
        "id": "view-in-github",
        "colab_type": "text"
      },
      "source": [
        "<a href=\"https://colab.research.google.com/github/pkubota/courses/blob/main/python/colab/ReadingandWritingXarrayNC.ipynb\" target=\"_parent\"><img src=\"https://colab.research.google.com/assets/colab-badge.svg\" alt=\"Open In Colab\"/></a>"
      ]
    },
    {
      "cell_type": "code",
      "execution_count": 16,
      "metadata": {
        "id": "p9GBoUnyOkSr"
      },
      "outputs": [],
      "source": [
        "import numpy as np\n",
        "import xarray as xr\n",
        "import pandas as pd\n",
        "\n",
        "# Ensure random arrays are the same each time\n",
        "# Time = UNLIMITED  // (1 currently)\n",
        "# latitude = 360\n",
        "# longitude = 721\n",
        "# level = 27\n",
        "#         float t_isobaric(Time, level, latitude, longitude) ;\n",
        "\n",
        "np.random.seed(0)\n",
        "#x = np.array([5,7,8,7,2,17,2,9,4,11,12,9,6])\n",
        "\n",
        "#ds1 = xr.Dataset(\n",
        "#    data_vars={\n",
        "#        \"a\": ((\"time\", \"level\", \"latitude\", \"longitude\"),\n",
        "#              np.random.randn(1, 1, 180, 360)),\n",
        "#        \"b\": ((\"level\", \"longitude\"),\n",
        "#              np.random.randn(1, 360)),\n",
        "#    },\n",
        "#    coords={\n",
        "#        \"longitude\": np.arange(0, 360),\n",
        "#        \"latitude\": np.arange(-90, 90),\n",
        "#        \"level\": np.array([1000]),\n",
        "#        \"time\": np.array([1]),\n",
        "#        },\n",
        "#    attrs=dict(description=\"Weather related data.\"),\n",
        "#    )\n",
        "level = np.array([1000.0])\n",
        "time = np.array([1])\n",
        "lon = np.arange(0.0, 360.0)\n",
        "lat = np.arange(-90.0, 90.0)\n",
        "temperature = np.random.randn(1, 1, 180, 360)\n",
        "precipitation = np.random.randn(1, 1, 180, 360)\n",
        "reference_time = pd.Timestamp(\"2014-09-05\")\n",
        "#time=pd.date_range(\"2014-09-05\", periods=0),\n",
        "temp_attr = dict(standard_name=\"air_potential_temperature\")\n",
        "precip_attr = dict(standard_name=\"convective_precipitation_flux\")\n",
        "dims = [\"time\", \"level\", \"latitude\", \"longitude\"]\n",
        "\n",
        "ds3 = xr.Dataset(\n",
        "    data_vars=dict(\n",
        "        temperature=(dims, temperature, temp_attr),\n",
        "        precipitation=(dims, precipitation, precip_attr),\n",
        "    ),\n",
        "    coords=dict(\n",
        "        longitude=(\"longitude\", lon),\n",
        "        latitude=(\"latitude\", lat),\n",
        "        level=(\"level\", level),\n",
        "        time=(\"time\", time),\n",
        "        reference_time=reference_time,\n",
        "    ),\n",
        "    attrs=dict(description=\"Weather related data.\"),\n",
        ")\n",
        "\n",
        "\n",
        "ds2 = xr.Dataset(\n",
        "    data_vars={\n",
        "        \"a\": ((\"x\", \"y\"), np.random.randn(7, 3)),\n",
        "        \"b\": ((\"z\", \"x\"), np.random.randn(2, 7)),\n",
        "    },\n",
        "    coords={\n",
        "        \"x\": np.arange(6, 13),\n",
        "        \"y\": np.arange(3),\n",
        "        \"z\": np.arange(3, 5),\n",
        "    },\n",
        ")\n",
        "\n",
        "# write datasets\n",
        "ds1.to_netcdf(\"ds1.nc\")\n",
        "ds2.to_netcdf(\"ds2.nc\")\n",
        "ds3.to_netcdf(\"ds3.nc\")\n",
        "\n",
        "# write dataarray\n",
        "ds1.a.to_netcdf(\"da1.nc\")\n",
        "ds3.temperature.to_netcdf(\"da3.nc\")"
      ]
    }
  ]
}