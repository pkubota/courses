{
  "nbformat": 4,
  "nbformat_minor": 0,
  "metadata": {
    "colab": {
      "provenance": [],
      "authorship_tag": "ABX9TyNNM+YpjB57rWOUvG8LdyaP",
      "include_colab_link": true
    },
    "kernelspec": {
      "name": "python3",
      "display_name": "Python 3"
    },
    "language_info": {
      "name": "python"
    }
  },
  "cells": [
    {
      "cell_type": "markdown",
      "metadata": {
        "id": "view-in-github",
        "colab_type": "text"
      },
      "source": [
        "<a href=\"https://colab.research.google.com/github/pkubota/courses/blob/main/python/colab/lorentz.ipynb\" target=\"_parent\"><img src=\"https://colab.research.google.com/assets/colab-badge.svg\" alt=\"Open In Colab\"/></a>"
      ]
    },
    {
      "cell_type": "code",
      "execution_count": 30,
      "metadata": {
        "id": "aGPPTrt1qXV4"
      },
      "outputs": [],
      "source": [
        "# @title\n",
        "%pip install -q ipywidgets\n",
        "\n",
        "import numpy as np\n",
        "from matplotlib import pyplot as plt\n",
        "from scipy import integrate\n",
        "\n",
        "from ipywidgets import interactive, fixed\n",
        "\n",
        "def solve_lorenz(sigma=10.0, beta=8./3, rho=28.0):\n",
        "    \"\"\"Plot a solution to the Lorenz differential equations.\"\"\"\n",
        "\n",
        "    max_time = 4.0\n",
        "    N = 30\n",
        "\n",
        "    fig = plt.figure(1)\n",
        "    ax = fig.add_axes([0, 0, 1, 1], projection='3d')\n",
        "    ax.axis('off')\n",
        "\n",
        "    # prepare the axes limits\n",
        "    ax.set_xlim((-25, 25))\n",
        "    ax.set_ylim((-35, 35))\n",
        "    ax.set_zlim((5, 55))\n",
        "\n",
        "    def lorenz_deriv(x_y_z, t0, sigma=sigma, beta=beta, rho=rho):\n",
        "        \"\"\"Compute the time-derivative of a Lorenz system.\"\"\"\n",
        "        x, y, z = x_y_z\n",
        "        return [sigma * (y - x), x * (rho - z) - y, x * y - beta * z]\n",
        "\n",
        "    # Choose random starting points, uniformly distributed from -15 to 15\n",
        "    np.random.seed(1)\n",
        "    x0 = -15 + 30 * np.random.random((N, 3))\n",
        "\n",
        "    # Solve for the trajectories\n",
        "    t = np.linspace(0, max_time, int(250*max_time))\n",
        "    x_t = np.asarray([integrate.odeint(lorenz_deriv, x0i, t)\n",
        "                      for x0i in x0])\n",
        "\n",
        "    # choose a different color for each trajectory\n",
        "    colors = plt.cm.viridis(np.linspace(0, 1, N))\n",
        "\n",
        "    for i in range(N):\n",
        "        x, y, z = x_t[i,:,:].T\n",
        "        lines = ax.plot(x, y, z, '-', c=colors[i])\n",
        "        plt.setp(lines, linewidth=2)\n",
        "    angle = 104\n",
        "    ax.view_init(30, angle)\n",
        "    fig.savefig(\"teste.png\")\n",
        "    plt.show()\n",
        "\n",
        "    return t, x_t\n",
        "\n",
        "    w=interactive(solve_lorenz,sigma=(0.0,50.0),rho=(0.0,50.0))\n",
        "    t, x_t = w.result\n",
        "    w.kwargs\n",
        "\n",
        "    xyz_avg = x_t.mean(axis=1)\n",
        "\n",
        "    xyz_avg.shape\n",
        "\n",
        "    from matplotlib import pyplot as plt\n",
        "    %matplotlib inline\n",
        "\n",
        "    plt.hist(xyz_avg[:,0])\n",
        "    plt.title('Average $x(t)$');\n",
        "    fig.savefig(\"teste.png\")\n"
      ]
    }
  ]
}